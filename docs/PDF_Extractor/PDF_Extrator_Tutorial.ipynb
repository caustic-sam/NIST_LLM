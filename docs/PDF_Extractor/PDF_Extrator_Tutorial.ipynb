{
 "cells": [
  {
   "cell_type": "markdown",
   "id": "a414212a",
   "metadata": {},
   "source": [
    "# 📄 PDF Processor: Extract, Clean, and Analyze PDF Content"
   ]
  },
  {
   "cell_type": "markdown",
   "id": "25640e6d",
   "metadata": {},
   "source": [
    "## 🧠 Purpose\n",
    "This script processes PDF files to extract, clean, score, and summarize text and metadata."
   ]
  },
  {
   "cell_type": "code",
   "execution_count": null,
   "id": "e1788533",
   "metadata": {},
   "outputs": [],
   "source": [
    "import PyPDF2\n",
    "import re\n",
    "import pandas as pd\n",
    "import os\n",
    "import random"
   ]
  },
  {
   "cell_type": "markdown",
   "id": "ed6e15d8",
   "metadata": {},
   "source": [
    "### 🧼 remove_existing_file"
   ]
  },
  {
   "cell_type": "code",
   "execution_count": null,
   "id": "664eb9bc",
   "metadata": {},
   "outputs": [],
   "source": [
    "(file_path):\n",
    "    \"\"\"\n",
    "    Checks if a file exists and removes it to prevent overwrite issues.\n",
    "    Args:\n",
    "    file_path (str): The path of the file to be checked and removed.\n",
    "    \"\"\"\n",
    "    if os.path.exists(file_path):\n",
    "        os.remove(file_path)\n",
    "        print(f\"Removed existing file: {file_path}\")\n",
    "    else:\n",
    "        print(f\"No existing file to remove: {file_path}\")"
   ]
  },
  {
   "cell_type": "markdown",
   "id": "6d51249e",
   "metadata": {},
   "source": [
    "### 📖 extract_text"
   ]
  },
  {
   "cell_type": "code",
   "execution_count": null,
   "id": "8f7ec735",
   "metadata": {},
   "outputs": [],
   "source": [
    "def (pdf_path):\n",
    "    \"\"\"\n",
    "    Extracts text from a given PDF file using PyPDF2.\n",
    "    Handles errors if the PDF is empty or unreadable.\n",
    "    Args:\n",
    "    pdf_path (str): The file path of the PDF from which to extract text.\n",
    "    Returns:\n",
    "    str: The extracted text or None if the file is empty or unreadable.\n",
    "    \"\"\"\n",
    "    try:\n",
    "        with open(pdf_path, 'rb') as file:\n",
    "            reader = PyPDF2.PdfReader(file)\n",
    "            if len(reader.pages) == 0:\n",
    "                raise ValueError(\"PDF file contains no text pages.\")\n",
    "            text = \"\"\n",
    "            for page in reader.pages:\n",
    "                text += page.extract_text() or \"\"\n",
    "        return text.strip()\n",
    "    except (PyPDF2.errors.PdfReadError, ValueError) as e:\n",
    "        print(f\"Error processing {pdf_path}: {e}\")\n",
    "        return None"
   ]
  },
  {
   "cell_type": "markdown",
   "id": "c4ba4240",
   "metadata": {},
   "source": [
    "### 🏷️ extract_metadata"
   ]
  },
  {
   "cell_type": "code",
   "execution_count": null,
   "id": "fd20dd86",
   "metadata": {},
   "outputs": [],
   "source": [
    "def (pdf_path):\n",
    "    \"\"\"\n",
    "    Extracts metadata from a PDF file using PyPDF2.\n",
    "    Args:\n",
    "    pdf_path (str): The file path of the PDF from which to extract metadata.\n",
    "    Returns:\n",
    "    dict: The metadata of the PDF.\n",
    "    \"\"\"\n",
    "    with open(pdf_path, 'rb') as file:\n",
    "        reader = PyPDF2.PdfReader(file)\n",
    "        metadata = reader.metadata\n",
    "    return metadata"
   ]
  },
  {
   "cell_type": "markdown",
   "id": "26c73647",
   "metadata": {},
   "source": [
    "### 🧹 clean_text"
   ]
  },
  {
   "cell_type": "code",
   "execution_count": null,
   "id": "5a213636",
   "metadata": {},
   "outputs": [],
   "source": [
    "def (text):\n",
    "    \"\"\"\n",
    "    Cleans the extracted text by removing non-printable characters and normalizing spaces.\n",
    "    Args:\n",
    "    text (str): The text to be cleaned.\n",
    "    Returns:\n",
    "    str: The cleaned text.\n",
    "    \"\"\"\n",
    "    text = re.sub(r'[^ -~]', ' ', text)\n",
    "    text = re.sub(r'\\s+', ' ', text).strip()\n",
    "    return text"
   ]
  },
  {
   "cell_type": "markdown",
   "id": "d8baadf9",
   "metadata": {},
   "source": [
    "### 🧪 assess_cleanliness"
   ]
  },
  {
   "cell_type": "code",
   "execution_count": null,
   "id": "57d924b6",
   "metadata": {},
   "outputs": [],
   "source": [
    "def (text):\n",
    "    \"\"\"\n",
    "    Calculates the cleanliness score based on the ratio of alphabetic characters to total characters.\n",
    "    Args:\n",
    "    text (str): The text to assess.\n",
    "    Returns:\n",
    "    float: The cleanliness score as a percentage.\n",
    "    \"\"\"\n",
    "    alpha_count = len(re.findall(r'[a-zA-Z]', text))\n",
    "    text_length = len(text)\n",
    "    return round((alpha_count / text_length) * 100, 2) if text_length > 0 else 0"
   ]
  },
  {
   "cell_type": "markdown",
   "id": "75139837",
   "metadata": {},
   "source": [
    "### 🎲 process_random_pdfs"
   ]
  },
  {
   "cell_type": "code",
   "execution_count": null,
   "id": "5ce0c1ac",
   "metadata": {},
   "outputs": [],
   "source": [
    "def (directory, output_file=\"batch_summary.xlsx\"):\n",
    "    \"\"\"\n",
    "    Processes a random selection of ten PDFs from a directory and compiles the results into an Excel file.\n",
    "    Args:\n",
    "    directory (str): The directory containing the PDF files.\n",
    "    output_file (str): The filename for the output Excel spreadsheet.\n",
    "    \"\"\"\n",
    "    pdf_files = [f for f in os.listdir(directory) if f.endswith('.pdf')]\n",
    "    selected_files = random.sample(pdf_files, min(10, len(pdf_files)))\n",
    "    results = []\n",
    "\n",
    "    for pdf in selected_files:\n",
    "        pdf_path = os.path.join(directory, pdf)\n",
    "        print(f\"Processing: {pdf_path}\")\n",
    "        metadata = extract_metadata(pdf_path)\n",
    "        extracted_text = extract_text(pdf_path)\n",
    "        if extracted_text:\n",
    "            cleaned_text = clean_text(extracted_text)\n",
    "            cleanliness_score = assess_cleanliness(cleaned_text)\n",
    "            results.append({\n",
    "                \"File\": pdf,\n",
    "                \"Metadata Title\": metadata.get('/Title', 'No title in metadata'),\n",
    "                \"Cleanliness Score\": cleanliness_score\n",
    "            })\n",
    "        else:\n",
    "            results.append({\n",
    "                \"File\": pdf,\n",
    "                \"Metadata Title\": \"N/A due to file error\",\n",
    "                \"Cleanliness Score\": \"N/A due to file error\"\n",
    "            })\n",
    "\n",
    "    df = pd.DataFrame(results)\n",
    "    df.to_excel(output_file, index=False)\n",
    "    print(f\"Data successfully exported to {output_file}\")\n",
    "\n",
    "# Usage"
   ]
  },
  {
   "cell_type": "markdown",
   "id": "9571ecbd",
   "metadata": {},
   "source": [
    "### 📍 Script Usage"
   ]
  },
  {
   "cell_type": "code",
   "execution_count": null,
   "id": "2df7248c",
   "metadata": {},
   "outputs": [],
   "source": [
    "directory_path = \"/Users/jm/NIST_SP_DOCS/\"\n",
    "remove_existing_file(\"batch_summary.xlsx\")\n",
    "process_random_pdfs(directory_path)"
   ]
  }
 ],
 "metadata": {},
 "nbformat": 4,
 "nbformat_minor": 5
}
